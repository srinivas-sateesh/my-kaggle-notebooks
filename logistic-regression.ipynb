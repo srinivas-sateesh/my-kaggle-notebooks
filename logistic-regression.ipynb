{
 "cells": [
  {
   "cell_type": "code",
   "execution_count": 1,
   "id": "7f3964c5",
   "metadata": {
    "_cell_guid": "b1076dfc-b9ad-4769-8c92-a6c4dae69d19",
    "_uuid": "8f2839f25d086af736a60e9eeb907d3b93b6e0e5",
    "execution": {
     "iopub.execute_input": "2022-04-06T13:15:27.724869Z",
     "iopub.status.busy": "2022-04-06T13:15:27.723608Z",
     "iopub.status.idle": "2022-04-06T13:15:27.732555Z",
     "shell.execute_reply": "2022-04-06T13:15:27.733055Z",
     "shell.execute_reply.started": "2022-04-06T02:28:55.017548Z"
    },
    "papermill": {
     "duration": 0.023112,
     "end_time": "2022-04-06T13:15:27.733358",
     "exception": false,
     "start_time": "2022-04-06T13:15:27.710246",
     "status": "completed"
    },
    "tags": []
   },
   "outputs": [],
   "source": [
    "# This Python 3 environment comes with many helpful analytics libraries installed\n",
    "# It is defined by the kaggle/python Docker image: https://github.com/kaggle/docker-python\n",
    "# For example, here's several helpful packages to load\n",
    "\n",
    "import numpy as np # linear algebra\n",
    "import pandas as pd # data processing, CSV file I/O (e.g. pd.read_csv)\n",
    "\n",
    "# Input data files are available in the read-only \"../input/\" directory\n",
    "# For example, running this (by clicking run or pressing Shift+Enter) will list all files under the input directory\n",
    "\n",
    "import os\n",
    "for dirname, _, filenames in os.walk('/kaggle/input'):\n",
    "    for filename in filenames:\n",
    "        print(os.path.join(dirname, filename))\n",
    "\n",
    "# You can write up to 20GB to the current directory (/kaggle/working/) that gets preserved as output when you create a version using \"Save & Run All\" \n",
    "# You can also write temporary files to /kaggle/temp/, but they won't be saved outside of the current session"
   ]
  },
  {
   "cell_type": "code",
   "execution_count": 2,
   "id": "551147f1",
   "metadata": {
    "execution": {
     "iopub.execute_input": "2022-04-06T13:15:27.754817Z",
     "iopub.status.busy": "2022-04-06T13:15:27.754208Z",
     "iopub.status.idle": "2022-04-06T13:15:29.028586Z",
     "shell.execute_reply": "2022-04-06T13:15:29.029060Z",
     "shell.execute_reply.started": "2022-04-06T02:28:55.042658Z"
    },
    "papermill": {
     "duration": 1.286545,
     "end_time": "2022-04-06T13:15:29.029361",
     "exception": false,
     "start_time": "2022-04-06T13:15:27.742816",
     "status": "completed"
    },
    "tags": []
   },
   "outputs": [
    {
     "data": {
      "text/plain": [
       "['data',\n",
       " 'target',\n",
       " 'frame',\n",
       " 'target_names',\n",
       " 'DESCR',\n",
       " 'feature_names',\n",
       " 'filename',\n",
       " 'data_module']"
      ]
     },
     "execution_count": 2,
     "metadata": {},
     "output_type": "execute_result"
    }
   ],
   "source": [
    "from sklearn import datasets\n",
    "iris=datasets.load_iris()\n",
    "list(iris.keys())"
   ]
  },
  {
   "cell_type": "code",
   "execution_count": 3,
   "id": "0c8e3cd2",
   "metadata": {
    "execution": {
     "iopub.execute_input": "2022-04-06T13:15:29.055047Z",
     "iopub.status.busy": "2022-04-06T13:15:29.054077Z",
     "iopub.status.idle": "2022-04-06T13:15:29.060997Z",
     "shell.execute_reply": "2022-04-06T13:15:29.061521Z",
     "shell.execute_reply.started": "2022-04-06T02:28:55.081808Z"
    },
    "papermill": {
     "duration": 0.019594,
     "end_time": "2022-04-06T13:15:29.061701",
     "exception": false,
     "start_time": "2022-04-06T13:15:29.042107",
     "status": "completed"
    },
    "tags": []
   },
   "outputs": [
    {
     "name": "stderr",
     "output_type": "stream",
     "text": [
      "/opt/conda/lib/python3.7/site-packages/ipykernel_launcher.py:2: DeprecationWarning: `np.int` is a deprecated alias for the builtin `int`. To silence this warning, use `int` by itself. Doing this will not modify any behavior and is safe. When replacing `np.int`, you may wish to use e.g. `np.int64` or `np.int32` to specify the precision. If you wish to review your current use, check the release note link for additional information.\n",
      "Deprecated in NumPy 1.20; for more details and guidance: https://numpy.org/devdocs/release/1.20.0-notes.html#deprecations\n",
      "  \n"
     ]
    }
   ],
   "source": [
    "X= iris[\"data\"][:,3:]\n",
    "y= (iris['target'] == 2).astype(np.int)"
   ]
  },
  {
   "cell_type": "code",
   "execution_count": 4,
   "id": "da0a8084",
   "metadata": {
    "execution": {
     "iopub.execute_input": "2022-04-06T13:15:29.085749Z",
     "iopub.status.busy": "2022-04-06T13:15:29.085053Z",
     "iopub.status.idle": "2022-04-06T13:15:29.225495Z",
     "shell.execute_reply": "2022-04-06T13:15:29.225966Z",
     "shell.execute_reply.started": "2022-04-06T02:28:55.114965Z"
    },
    "papermill": {
     "duration": 0.155236,
     "end_time": "2022-04-06T13:15:29.226137",
     "exception": false,
     "start_time": "2022-04-06T13:15:29.070901",
     "status": "completed"
    },
    "tags": []
   },
   "outputs": [
    {
     "data": {
      "text/plain": [
       "LogisticRegression()"
      ]
     },
     "execution_count": 4,
     "metadata": {},
     "output_type": "execute_result"
    }
   ],
   "source": [
    "from sklearn.linear_model import LogisticRegression\n",
    "log_reg=LogisticRegression()\n",
    "log_reg.fit(X,y)\n"
   ]
  },
  {
   "cell_type": "code",
   "execution_count": 5,
   "id": "2313013a",
   "metadata": {
    "execution": {
     "iopub.execute_input": "2022-04-06T13:15:29.248783Z",
     "iopub.status.busy": "2022-04-06T13:15:29.247843Z",
     "iopub.status.idle": "2022-04-06T13:15:29.254993Z",
     "shell.execute_reply": "2022-04-06T13:15:29.255479Z",
     "shell.execute_reply.started": "2022-04-06T02:32:43.752908Z"
    },
    "papermill": {
     "duration": 0.020194,
     "end_time": "2022-04-06T13:15:29.255676",
     "exception": false,
     "start_time": "2022-04-06T13:15:29.235482",
     "status": "completed"
    },
    "tags": []
   },
   "outputs": [
    {
     "data": {
      "text/plain": [
       "array([[9.99250016e-01, 7.49984089e-04],\n",
       "       [9.99240201e-01, 7.59799387e-04],\n",
       "       [9.99230257e-01, 7.69743043e-04],\n",
       "       ...,\n",
       "       [3.08374822e-03, 9.96916252e-01],\n",
       "       [3.04400296e-03, 9.96955997e-01],\n",
       "       [3.00476842e-03, 9.96995232e-01]])"
      ]
     },
     "execution_count": 5,
     "metadata": {},
     "output_type": "execute_result"
    }
   ],
   "source": [
    "X_new = np.linspace(0,3,1000).reshape(-1,1)\n",
    "y_proba = log_reg.predict_proba(X_new)\n",
    "y_proba"
   ]
  },
  {
   "cell_type": "code",
   "execution_count": 6,
   "id": "2e046a06",
   "metadata": {
    "execution": {
     "iopub.execute_input": "2022-04-06T13:15:29.279110Z",
     "iopub.status.busy": "2022-04-06T13:15:29.278167Z",
     "iopub.status.idle": "2022-04-06T13:15:29.485040Z",
     "shell.execute_reply": "2022-04-06T13:15:29.485456Z",
     "shell.execute_reply.started": "2022-04-06T02:31:11.381465Z"
    },
    "papermill": {
     "duration": 0.220158,
     "end_time": "2022-04-06T13:15:29.485644",
     "exception": false,
     "start_time": "2022-04-06T13:15:29.265486",
     "status": "completed"
    },
    "tags": []
   },
   "outputs": [
    {
     "data": {
      "image/png": "[encoded data removed]",
      "text/plain": [
       "<Figure size 432x288 with 1 Axes>"
      ]
     },
     "metadata": {
      "needs_background": "light"
     },
     "output_type": "display_data"
    }
   ],
   "source": [
    "import matplotlib.pyplot as plt\n",
    "plt.plot(X_new, y_proba[:,1],\"g-\",label=\"iris virginica\")\n",
    "plt.plot(X_new, y_proba[:,0],\"b--\", label = \"Not Iris Virginica\")\n",
    "plt.show()"
   ]
  },
  {
   "cell_type": "code",
   "execution_count": 7,
   "id": "692f3ac4",
   "metadata": {
    "execution": {
     "iopub.execute_input": "2022-04-06T13:15:29.510654Z",
     "iopub.status.busy": "2022-04-06T13:15:29.509701Z",
     "iopub.status.idle": "2022-04-06T13:15:29.517214Z",
     "shell.execute_reply": "2022-04-06T13:15:29.516554Z",
     "shell.execute_reply.started": "2022-04-06T02:37:07.186099Z"
    },
    "papermill": {
     "duration": 0.021209,
     "end_time": "2022-04-06T13:15:29.517352",
     "exception": false,
     "start_time": "2022-04-06T13:15:29.496143",
     "status": "completed"
    },
    "tags": []
   },
   "outputs": [
    {
     "data": {
      "text/plain": [
       "array([[0.01141564, 0.98858436],\n",
       "       [0.66709636, 0.33290364]])"
      ]
     },
     "execution_count": 7,
     "metadata": {},
     "output_type": "execute_result"
    }
   ],
   "source": [
    "log_reg.predict_proba([[2.69],[1.5]])"
   ]
  },
  {
   "cell_type": "code",
   "execution_count": 8,
   "id": "d4483785",
   "metadata": {
    "execution": {
     "iopub.execute_input": "2022-04-06T13:15:29.545771Z",
     "iopub.status.busy": "2022-04-06T13:15:29.545039Z",
     "iopub.status.idle": "2022-04-06T13:15:29.547395Z",
     "shell.execute_reply": "2022-04-06T13:15:29.546903Z",
     "shell.execute_reply.started": "2022-04-06T02:50:51.021358Z"
    },
    "papermill": {
     "duration": 0.018505,
     "end_time": "2022-04-06T13:15:29.547564",
     "exception": false,
     "start_time": "2022-04-06T13:15:29.529059",
     "status": "completed"
    },
    "tags": []
   },
   "outputs": [],
   "source": [
    "X=iris[\"data\"][:,(2,3)] #petal length, petal_width\n",
    "y=iris[\"target\"]"
   ]
  },
  {
   "cell_type": "code",
   "execution_count": 9,
   "id": "294e3b3a",
   "metadata": {
    "execution": {
     "iopub.execute_input": "2022-04-06T13:15:29.574054Z",
     "iopub.status.busy": "2022-04-06T13:15:29.573377Z",
     "iopub.status.idle": "2022-04-06T13:15:29.594153Z",
     "shell.execute_reply": "2022-04-06T13:15:29.593531Z",
     "shell.execute_reply.started": "2022-04-06T02:51:52.895989Z"
    },
    "papermill": {
     "duration": 0.034701,
     "end_time": "2022-04-06T13:15:29.594295",
     "exception": false,
     "start_time": "2022-04-06T13:15:29.559594",
     "status": "completed"
    },
    "tags": []
   },
   "outputs": [
    {
     "data": {
      "text/plain": [
       "(array([2]), array([[6.38014896e-07, 5.74929995e-02, 9.42506362e-01]]))"
      ]
     },
     "execution_count": 9,
     "metadata": {},
     "output_type": "execute_result"
    }
   ],
   "source": [
    "softmax=LogisticRegression(multi_class=\"multinomial\",solver=\"lbfgs\",C=10)\n",
    "softmax.fit(X,y)\n",
    "softmax.predict([[5,2]]),softmax.predict_proba([[5,2]])"
   ]
  },
  {
   "cell_type": "code",
   "execution_count": null,
   "id": "e5d4d8af",
   "metadata": {
    "papermill": {
     "duration": 0.011882,
     "end_time": "2022-04-06T13:15:29.617632",
     "exception": false,
     "start_time": "2022-04-06T13:15:29.605750",
     "status": "completed"
    },
    "tags": []
   },
   "outputs": [],
   "source": []
  }
 ],
 "metadata": {
  "kernelspec": {
   "display_name": "Python 3",
   "language": "python",
   "name": "python3"
  },
  "language_info": {
   "codemirror_mode": {
    "name": "ipython",
    "version": 3
   },
   "file_extension": ".py",
   "mimetype": "text/x-python",
   "name": "python",
   "nbconvert_exporter": "python",
   "pygments_lexer": "ipython3",
   "version": "3.7.12"
  },
  "papermill": {
   "default_parameters": {},
   "duration": 12.524711,
   "end_time": "2022-04-06T13:15:30.340702",
   "environment_variables": {},
   "exception": null,
   "input_path": "__notebook__.ipynb",
   "output_path": "__notebook__.ipynb",
   "parameters": {},
   "start_time": "2022-04-06T13:15:17.815991",
   "version": "2.3.3"
  }
 },
 "nbformat": 4,
 "nbformat_minor": 5
}
